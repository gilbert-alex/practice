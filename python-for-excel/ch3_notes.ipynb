{
 "cells": [
  {
   "cell_type": "code",
   "execution_count": 1,
   "id": "062ba80f-2641-48d8-bd11-9346b5829293",
   "metadata": {},
   "outputs": [
    {
     "data": {
      "text/plain": [
       "7"
      ]
     },
     "execution_count": 1,
     "metadata": {},
     "output_type": "execute_result"
    }
   ],
   "source": [
    "a = 3\n",
    "b = 4\n",
    "a + b"
   ]
  },
  {
   "cell_type": "code",
   "execution_count": 2,
   "id": "d8333885-1a8b-46dc-b60e-ad686745b419",
   "metadata": {},
   "outputs": [
    {
     "name": "stdout",
     "output_type": "stream",
     "text": [
      "3\n",
      "three\n"
     ]
    }
   ],
   "source": [
    "a = 3\n",
    "print(a)\n",
    "a = \"three\"\n",
    "print(a)"
   ]
  },
  {
   "cell_type": "code",
   "execution_count": 3,
   "id": "06f12a8b-ef76-46ed-b661-5061cfbfa31c",
   "metadata": {},
   "outputs": [
    {
     "data": {
      "text/plain": [
       "int"
      ]
     },
     "execution_count": 3,
     "metadata": {},
     "output_type": "execute_result"
    }
   ],
   "source": [
    "type(4)"
   ]
  },
  {
   "cell_type": "code",
   "execution_count": 5,
   "id": "d8303f84-7822-467f-a269-a21a54f0bd76",
   "metadata": {},
   "outputs": [
    {
     "data": {
      "text/plain": [
       "float"
      ]
     },
     "execution_count": 5,
     "metadata": {},
     "output_type": "execute_result"
    }
   ],
   "source": [
    "type(4.4)"
   ]
  },
  {
   "cell_type": "code",
   "execution_count": 6,
   "id": "b32f07eb-30b5-4d54-8399-c4e986505a56",
   "metadata": {},
   "outputs": [
    {
     "data": {
      "text/plain": [
       "float"
      ]
     },
     "execution_count": 6,
     "metadata": {},
     "output_type": "execute_result"
    }
   ],
   "source": [
    "type(4.)"
   ]
  },
  {
   "cell_type": "code",
   "execution_count": 7,
   "id": "a9a4055b-b69c-470f-9e48-950f0ff8d3db",
   "metadata": {},
   "outputs": [
    {
     "data": {
      "text/plain": [
       "4.0"
      ]
     },
     "execution_count": 7,
     "metadata": {},
     "output_type": "execute_result"
    }
   ],
   "source": [
    "float(4)"
   ]
  },
  {
   "cell_type": "code",
   "execution_count": 8,
   "id": "f806f79d-dae7-46ff-a14f-8b02884ee498",
   "metadata": {},
   "outputs": [
    {
     "data": {
      "text/plain": [
       "4"
      ]
     },
     "execution_count": 8,
     "metadata": {},
     "output_type": "execute_result"
    }
   ],
   "source": [
    "int(4.9)"
   ]
  },
  {
   "cell_type": "code",
   "execution_count": 9,
   "id": "92cce7fc-faec-4c23-90dd-b86bb037323a",
   "metadata": {},
   "outputs": [
    {
     "data": {
      "text/plain": [
       "0.02499999999999991"
      ]
     },
     "execution_count": 9,
     "metadata": {},
     "output_type": "execute_result"
    }
   ],
   "source": [
    "1.125 - 1.1"
   ]
  },
  {
   "cell_type": "code",
   "execution_count": 10,
   "id": "52b09d6a-0300-49f8-9869-a0e5585cfac8",
   "metadata": {},
   "outputs": [
    {
     "data": {
      "text/plain": [
       "7"
      ]
     },
     "execution_count": 10,
     "metadata": {},
     "output_type": "execute_result"
    }
   ],
   "source": [
    "3 + 4 # sum"
   ]
  },
  {
   "cell_type": "code",
   "execution_count": 11,
   "id": "48d1a137-9a2f-43e9-a4f0-abeda61dfda8",
   "metadata": {},
   "outputs": [
    {
     "data": {
      "text/plain": [
       "-1"
      ]
     },
     "execution_count": 11,
     "metadata": {},
     "output_type": "execute_result"
    }
   ],
   "source": [
    "3 - 4 # subtraction"
   ]
  },
  {
   "cell_type": "code",
   "execution_count": 12,
   "id": "8bdb3a11-958b-4828-8d49-7b79a37751a6",
   "metadata": {},
   "outputs": [
    {
     "data": {
      "text/plain": [
       "0.75"
      ]
     },
     "execution_count": 12,
     "metadata": {},
     "output_type": "execute_result"
    }
   ],
   "source": [
    "3 / 4 # division"
   ]
  },
  {
   "cell_type": "code",
   "execution_count": 13,
   "id": "9a07b4ff-74a9-4aea-8ef2-a0c1af56cff4",
   "metadata": {},
   "outputs": [
    {
     "data": {
      "text/plain": [
       "12"
      ]
     },
     "execution_count": 13,
     "metadata": {},
     "output_type": "execute_result"
    }
   ],
   "source": [
    "3 * 4 # multiplication"
   ]
  },
  {
   "cell_type": "code",
   "execution_count": 14,
   "id": "670029da-65bb-4c7f-8479-7b0e7c104a5e",
   "metadata": {},
   "outputs": [
    {
     "data": {
      "text/plain": [
       "81"
      ]
     },
     "execution_count": 14,
     "metadata": {},
     "output_type": "execute_result"
    }
   ],
   "source": [
    "3 ** 4 # the power operator"
   ]
  },
  {
   "cell_type": "code",
   "execution_count": 15,
   "id": "64bbb8ef-568e-4a63-92b4-d8f637280221",
   "metadata": {},
   "outputs": [
    {
     "data": {
      "text/plain": [
       "21"
      ]
     },
     "execution_count": 15,
     "metadata": {},
     "output_type": "execute_result"
    }
   ],
   "source": [
    "3 * (3 + 4)"
   ]
  },
  {
   "cell_type": "code",
   "execution_count": 16,
   "id": "0f0e94db-fb2b-4611-8e78-02c5f94e8a5a",
   "metadata": {},
   "outputs": [
    {
     "data": {
      "text/plain": [
       "7"
      ]
     },
     "execution_count": 16,
     "metadata": {},
     "output_type": "execute_result"
    }
   ],
   "source": [
    "3 + 4 # this is an inline comment"
   ]
  },
  {
   "cell_type": "code",
   "execution_count": 17,
   "id": "d4df8660-ff5a-42c0-bac2-586435df3c68",
   "metadata": {},
   "outputs": [
    {
     "data": {
      "text/plain": [
       "False"
      ]
     },
     "execution_count": 17,
     "metadata": {},
     "output_type": "execute_result"
    }
   ],
   "source": [
    "3 == 4 # equality (excel uses 3 = 4)"
   ]
  },
  {
   "cell_type": "code",
   "execution_count": 18,
   "id": "0efddd73-8efd-4411-9413-4f5b974e2b1f",
   "metadata": {},
   "outputs": [
    {
     "data": {
      "text/plain": [
       "True"
      ]
     },
     "execution_count": 18,
     "metadata": {},
     "output_type": "execute_result"
    }
   ],
   "source": [
    "3 != 4 # inequality (excel uses 3 <> 4)"
   ]
  },
  {
   "cell_type": "code",
   "execution_count": 19,
   "id": "1c6bf3ca-7f91-42bb-8f76-d44eb5ba9f5d",
   "metadata": {},
   "outputs": [
    {
     "data": {
      "text/plain": [
       "True"
      ]
     },
     "execution_count": 19,
     "metadata": {},
     "output_type": "execute_result"
    }
   ],
   "source": [
    "3 < 4 # less than and use > for greater than"
   ]
  },
  {
   "cell_type": "code",
   "execution_count": 20,
   "id": "253abcbb-56c4-4785-9541-7f3c5f29076e",
   "metadata": {},
   "outputs": [
    {
     "data": {
      "text/plain": [
       "True"
      ]
     },
     "execution_count": 20,
     "metadata": {},
     "output_type": "execute_result"
    }
   ],
   "source": [
    "3 <= 4 # less than or equal to. use >= for opposite"
   ]
  },
  {
   "cell_type": "code",
   "execution_count": 21,
   "id": "842751f2-f288-4adf-b39d-1719cc0f0c86",
   "metadata": {},
   "outputs": [
    {
     "data": {
      "text/plain": [
       "True"
      ]
     },
     "execution_count": 21,
     "metadata": {},
     "output_type": "execute_result"
    }
   ],
   "source": [
    "# you can chain logical expressions\n",
    "# in VBA, this would be: 10 < 12 And 12 < 17\n",
    "# in excel formulas, this would be: =AND(10 < 12, 12 < 17)\n",
    "10 < 12 < 17"
   ]
  },
  {
   "cell_type": "code",
   "execution_count": 22,
   "id": "0c533a1d-753c-474c-a89b-c0aa4602aaa7",
   "metadata": {},
   "outputs": [
    {
     "data": {
      "text/plain": [
       "False"
      ]
     },
     "execution_count": 22,
     "metadata": {},
     "output_type": "execute_result"
    }
   ],
   "source": [
    "not True # \"not\" operator"
   ]
  },
  {
   "cell_type": "code",
   "execution_count": 23,
   "id": "da914482-d3d7-4bc7-bef1-0040cb755b8f",
   "metadata": {},
   "outputs": [
    {
     "data": {
      "text/plain": [
       "False"
      ]
     },
     "execution_count": 23,
     "metadata": {},
     "output_type": "execute_result"
    }
   ],
   "source": [
    "False and True # \"and\" operator"
   ]
  },
  {
   "cell_type": "code",
   "execution_count": 24,
   "id": "0a06d195-5263-4e5e-84b5-e527e6758f1b",
   "metadata": {},
   "outputs": [
    {
     "data": {
      "text/plain": [
       "True"
      ]
     },
     "execution_count": 24,
     "metadata": {},
     "output_type": "execute_result"
    }
   ],
   "source": [
    "False or True # \"or\" operator"
   ]
  },
  {
   "cell_type": "code",
   "execution_count": 25,
   "id": "630c9d7e-212d-4f19-ae98-3202ad4f4f08",
   "metadata": {},
   "outputs": [
    {
     "data": {
      "text/plain": [
       "True"
      ]
     },
     "execution_count": 25,
     "metadata": {},
     "output_type": "execute_result"
    }
   ],
   "source": [
    "bool(2) # bool constructor"
   ]
  },
  {
   "cell_type": "code",
   "execution_count": 26,
   "id": "5395bbf1-d480-48e6-900b-63f956a09d62",
   "metadata": {},
   "outputs": [
    {
     "data": {
      "text/plain": [
       "False"
      ]
     },
     "execution_count": 26,
     "metadata": {},
     "output_type": "execute_result"
    }
   ],
   "source": [
    "bool(0)"
   ]
  },
  {
   "cell_type": "code",
   "execution_count": 27,
   "id": "30b74627-0ef6-469f-bdd5-d1c3a70be87f",
   "metadata": {},
   "outputs": [
    {
     "data": {
      "text/plain": [
       "True"
      ]
     },
     "execution_count": 27,
     "metadata": {},
     "output_type": "execute_result"
    }
   ],
   "source": [
    "bool(\"text\")"
   ]
  },
  {
   "cell_type": "code",
   "execution_count": 28,
   "id": "7a6798c6-f8c0-449d-ae3c-69363803ed4c",
   "metadata": {},
   "outputs": [
    {
     "data": {
      "text/plain": [
       "False"
      ]
     },
     "execution_count": 28,
     "metadata": {},
     "output_type": "execute_result"
    }
   ],
   "source": [
    "bool(\"\")"
   ]
  },
  {
   "cell_type": "code",
   "execution_count": 29,
   "id": "a7a1a337-b61f-4ba1-8243-e4a8cbeff8ca",
   "metadata": {},
   "outputs": [
    {
     "data": {
      "text/plain": [
       "False"
      ]
     },
     "execution_count": 29,
     "metadata": {},
     "output_type": "execute_result"
    }
   ],
   "source": [
    "bool(None)"
   ]
  },
  {
   "cell_type": "code",
   "execution_count": 30,
   "id": "0d99f528-4744-4ea3-8c0c-0e41a8cda7b4",
   "metadata": {},
   "outputs": [
    {
     "data": {
      "text/plain": [
       "'A double quote string. A single quote string'"
      ]
     },
     "execution_count": 30,
     "metadata": {},
     "output_type": "execute_result"
    }
   ],
   "source": [
    "\"A double quote string. \" + 'A single quote string'"
   ]
  },
  {
   "cell_type": "code",
   "execution_count": 32,
   "id": "30ae926c-87bf-48c6-8a23-114a2427cfdc",
   "metadata": {},
   "outputs": [
    {
     "name": "stdout",
     "output_type": "stream",
     "text": [
      "Don't wait! Learn how to \"speak\" Python.\n"
     ]
    }
   ],
   "source": [
    "print(\"Don't wait! \" + 'Learn how to \"speak\" Python.')"
   ]
  },
  {
   "cell_type": "code",
   "execution_count": 33,
   "id": "cd70e774-5afe-4ac5-a44a-35f4c9003c7f",
   "metadata": {},
   "outputs": [
    {
     "name": "stdout",
     "output_type": "stream",
     "text": [
      "It's easy to \"escape\" characters with leading \\.\n"
     ]
    }
   ],
   "source": [
    "print(\"It's easy to \\\"escape\\\" characters with leading \\\\.\")"
   ]
  },
  {
   "cell_type": "code",
   "execution_count": 35,
   "id": "7e413901-b497-48b8-aa4f-f9a46d71d3b3",
   "metadata": {},
   "outputs": [
    {
     "data": {
      "text/plain": [
       "'Python is free and open source.'"
      ]
     },
     "execution_count": 35,
     "metadata": {},
     "output_type": "execute_result"
    }
   ],
   "source": [
    "# note how Python allows you to conveniently assign multiple\n",
    "# values to multiple variables in a single line\n",
    "first_adjective, second_adjective = \"free\", \"open source\"\n",
    "f\"Python is {first_adjective} and {second_adjective}.\""
   ]
  },
  {
   "cell_type": "code",
   "execution_count": 36,
   "id": "dddea56c-b69b-45c2-95cf-fdf609416df3",
   "metadata": {},
   "outputs": [
    {
     "data": {
      "text/plain": [
       "'python'"
      ]
     },
     "execution_count": 36,
     "metadata": {},
     "output_type": "execute_result"
    }
   ],
   "source": [
    "'PYTHON'.lower()"
   ]
  },
  {
   "cell_type": "code",
   "execution_count": 37,
   "id": "7711ddfc-4a0a-4314-a98d-7155ab44e6db",
   "metadata": {},
   "outputs": [
    {
     "data": {
      "text/plain": [
       "'PYTHON'"
      ]
     },
     "execution_count": 37,
     "metadata": {},
     "output_type": "execute_result"
    }
   ],
   "source": [
    "\"python\".upper()"
   ]
  },
  {
   "cell_type": "code",
   "execution_count": null,
   "id": "241fa8ff-090c-4bb3-b6a4-8c30500c4042",
   "metadata": {},
   "outputs": [],
   "source": []
  }
 ],
 "metadata": {
  "kernelspec": {
   "display_name": "Python 3 (ipykernel)",
   "language": "python",
   "name": "python3"
  },
  "language_info": {
   "codemirror_mode": {
    "name": "ipython",
    "version": 3
   },
   "file_extension": ".py",
   "mimetype": "text/x-python",
   "name": "python",
   "nbconvert_exporter": "python",
   "pygments_lexer": "ipython3",
   "version": "3.11.5"
  }
 },
 "nbformat": 4,
 "nbformat_minor": 5
}
